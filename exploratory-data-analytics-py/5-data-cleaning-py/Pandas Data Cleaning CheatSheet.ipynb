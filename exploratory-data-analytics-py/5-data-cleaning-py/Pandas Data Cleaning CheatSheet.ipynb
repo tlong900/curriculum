{
 "cells": [
  {
   "cell_type": "markdown",
   "metadata": {},
   "source": [
    "Cleaning with Pandas, Cheatsheet\n",
    "===\n",
    "BASICS\n",
    "---\n",
    "\n",
    "- Creating a blank DataFrame\n",
    "- Adding values to the dataframe\n",
    "- importing data from file\n",
    "- exporting data into file\n",
    "- retriving data from dataframe (slice, dice, select on condition)\n",
    "- dropping columns\n",
    "- dropping rows\n",
    "- editing a specific row\n",
    "- cleaning values\n",
    "- cleaning dates\n",
    "- dropping duplicates\n",
    "- replacing values\n",
    "- renaming column names\n",
    "\n",
    "ADVANCED\n",
    "---\n",
    "- binning, slicing and dicing\n",
    "- Creating Dummy variables\n",
    "- groupingby\n",
    "- dealing with empty values\n",
    "- joining, merging and concatenation\n",
    "- transposing\n",
    "- apply methods"
   ]
  },
  {
   "cell_type": "code",
   "execution_count": 2,
   "metadata": {
    "collapsed": true
   },
   "outputs": [],
   "source": [
    "import pandas as pd"
   ]
  },
  {
   "cell_type": "markdown",
   "metadata": {},
   "source": [
    "IMPORTING DATA FROM FILE\n",
    "---"
   ]
  },
  {
   "cell_type": "code",
   "execution_count": null,
   "metadata": {
    "collapsed": true
   },
   "outputs": [],
   "source": [
    "#Read from CSV file\n",
    "df = pd.read_csv(filedirectory)\n",
    "\n",
    "#Read from TSV File or txt file\n",
    "df = pd.read_table(filedirectory)\n",
    "\n",
    "#Read from excel file\n",
    "df = pd.read_excel(filedirectory)\n",
    "\n",
    "#Read from JSON file\n",
    "df = pd.read_json(json_string)\n",
    "\n",
    "#Importing Dates\n",
    "#For Dates - '30MAR1990', in the 'date' column\n",
    "parser = lambda date: pd.datetime.strptime(date, '%d%b%Y')\n",
    "pd.read_csv(fileDirectory, parse_dates=['date'], date_parser=parser)"
   ]
  },
  {
   "cell_type": "markdown",
   "metadata": {},
   "source": [
    "EXPORTING DATAFRAME TO FILE\n",
    "---"
   ]
  },
  {
   "cell_type": "code",
   "execution_count": null,
   "metadata": {
    "collapsed": true
   },
   "outputs": [],
   "source": [
    "#Save to CSV file\n",
    "df.to_csv(targetFileName)\n",
    "\n",
    "#Save to excel file\n",
    "df.to_excel(targetFileName)\n",
    "\n",
    "#Save to JSON file\n",
    "df.to_json(targetFileName)\n",
    "\n",
    "#Save to HTML Table\n",
    "df.to_html(targetFileName)"
   ]
  },
  {
   "cell_type": "markdown",
   "metadata": {},
   "source": [
    "DROPPING COLUMNS\n",
    "---"
   ]
  },
  {
   "cell_type": "code",
   "execution_count": null,
   "metadata": {
    "collapsed": true
   },
   "outputs": [],
   "source": [
    "#Drop the column, \"Customer Name\"\n",
    "df.drop('Customer Name', axis=1, inplace=True)\n",
    "\n",
    "#Drop the column index 0\n",
    "df.drop(0, axis=1, inplace=True)\n",
    "\n",
    "#Drop multiple columns, based on column name\n",
    "df.drop('Customer Name', 'Address', axis=1, inplace=True)\n",
    "\n",
    "#Drop multiple columns, based on index\n",
    "df.drop(df.columns[0:3], axis=1, inplace=True)"
   ]
  },
  {
   "cell_type": "markdown",
   "metadata": {},
   "source": [
    "DROPPING ROWS\n",
    "---"
   ]
  },
  {
   "cell_type": "code",
   "execution_count": null,
   "metadata": {
    "collapsed": true
   },
   "outputs": [],
   "source": [
    "#Drop the row, index 0\n",
    "df.drop(0, axis=0, inplace=True)\n",
    "\n",
    "#Drop multiple rows, based on index (0 - 3)\n",
    "df.drop(df.index[0:3], axis=0, inplace=True)\n",
    "\n",
    "#Drop rows based on one condition\n",
    "df.drop(df[df.score < 50].index, inplace=True)\n",
    "\n",
    "#Drop rows based on multiple conditions\n",
    "df.drop(df[(df.score < 50) & (df.score > 20)].index, inplace=True)"
   ]
  },
  {
   "cell_type": "code",
   "execution_count": null,
   "metadata": {
    "collapsed": true
   },
   "outputs": [],
   "source": []
  },
  {
   "cell_type": "code",
   "execution_count": null,
   "metadata": {
    "collapsed": true
   },
   "outputs": [],
   "source": [
    "#Date\n",
    "df['year'] = df['Date'].dt.year\n",
    "df['month'] = df['Date'].dt.month\n",
    "df['day'] = df['Date'].dt.day\n",
    "\n",
    "df['hour'] = df['Date'].dt.hour\n",
    "df['minute'] = df['Date'].dt.minute\n",
    "df['second'] = df['Date'].dt.second\n",
    "\n",
    "df['dayofweek'] = df['Date'].dt.dayofweek\n"
   ]
  },
  {
   "cell_type": "code",
   "execution_count": null,
   "metadata": {
    "collapsed": true
   },
   "outputs": [],
   "source": []
  },
  {
   "cell_type": "code",
   "execution_count": null,
   "metadata": {
    "collapsed": true
   },
   "outputs": [],
   "source": []
  },
  {
   "cell_type": "code",
   "execution_count": null,
   "metadata": {
    "collapsed": true
   },
   "outputs": [],
   "source": []
  },
  {
   "cell_type": "code",
   "execution_count": null,
   "metadata": {
    "collapsed": true
   },
   "outputs": [],
   "source": []
  },
  {
   "cell_type": "code",
   "execution_count": null,
   "metadata": {
    "collapsed": true
   },
   "outputs": [],
   "source": []
  },
  {
   "cell_type": "code",
   "execution_count": null,
   "metadata": {
    "collapsed": true
   },
   "outputs": [],
   "source": []
  }
 ],
 "metadata": {
  "kernelspec": {
   "display_name": "Python 3",
   "language": "python",
   "name": "python3"
  },
  "language_info": {
   "codemirror_mode": {
    "name": "ipython",
    "version": 3
   },
   "file_extension": ".py",
   "mimetype": "text/x-python",
   "name": "python",
   "nbconvert_exporter": "python",
   "pygments_lexer": "ipython3",
   "version": "3.6.1"
  }
 },
 "nbformat": 4,
 "nbformat_minor": 2
}
